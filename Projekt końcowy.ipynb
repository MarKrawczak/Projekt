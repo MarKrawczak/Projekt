{
 "cells": [
  {
   "cell_type": "code",
   "execution_count": 1,
   "id": "5fbe119d",
   "metadata": {},
   "outputs": [],
   "source": [
    "import pandas as pd\n",
    "import numpy as np\n",
    "import matplotlib.pyplot as plt\n",
    "from sklearn.model_selection import train_test_split\n",
    "from sklearn.linear_model import LogisticRegression\n",
    "from sklearn.tree import DecisionTreeClassifier\n",
    "from sklearn.ensemble import RandomForestClassifier\n",
    "from sklearn.ensemble import GradientBoostingClassifier\n",
    "from sklearn.ensemble import AdaBoostClassifier\n",
    "from sklearn.ensemble import BaggingClassifier\n",
    "from sklearn.neighbors import KNeighborsClassifier\n",
    "from sklearn.preprocessing import StandardScaler\n",
    "from scipy import stats\n",
    "from sklearn.metrics import f1_score\n",
    "from sklearn import metrics\n",
    "from sklearn.cluster import KMeans\n",
    "from sklearn.cluster import AgglomerativeClustering\n",
    "from sklearn.cluster import DBSCAN\n",
    "from scipy.cluster.hierarchy import linkage\n",
    "from scipy.cluster.hierarchy import dendrogram\n",
    "from scipy.cluster.hierarchy import cut_tree\n",
    "from sklearn.decomposition import PCA\n",
    "from sklearn.decomposition import IncrementalPCA\n",
    "from sklearn.metrics import silhouette_score\n",
    "from sklearn.feature_extraction.text import CountVectorizer\n",
    "from sklearn.model_selection import learning_curve\n",
    "from sklearn.model_selection import ShuffleSplit"
   ]
  },
  {
   "cell_type": "code",
   "execution_count": 4,
   "id": "4120cd11",
   "metadata": {},
   "outputs": [],
   "source": [
    "Dane = pd.read_csv('C:/Users/mkraw/Downloads/Kurs/Projekt/Loan_data.csv', delimiter=',')"
   ]
  },
  {
   "cell_type": "code",
   "execution_count": 7,
   "id": "3be4f360",
   "metadata": {},
   "outputs": [
    {
     "name": "stdout",
     "output_type": "stream",
     "text": [
      "<class 'pandas.core.frame.DataFrame'>\n",
      "RangeIndex: 42535 entries, 0 to 42534\n",
      "Columns: 151 entries, id to settlement_term\n",
      "dtypes: float64(120), int64(1), object(30)\n",
      "memory usage: 49.0+ MB\n"
     ]
    }
   ],
   "source": [
    "Dane.info()"
   ]
  },
  {
   "cell_type": "raw",
   "id": "93603ca2",
   "metadata": {},
   "source": [
    "# Usunięcie wiersza 'Loans that do not meet the credit policy'"
   ]
  },
  {
   "cell_type": "code",
   "execution_count": 8,
   "id": "c465adae",
   "metadata": {},
   "outputs": [],
   "source": [
    "Dane.drop(39786, axis='index', inplace = True)\n",
    "Dane.to_csv('C:/Users/mkraw/Downloads/Kurs/Projekt/Loan_data_kopia.csv', index = False)\n",
    "Dane = pd.read_csv('C:/Users/mkraw/Downloads/Kurs/Projekt/Loan_data_kopia.csv', delimiter=',')"
   ]
  },
  {
   "cell_type": "raw",
   "id": "b60bc94d",
   "metadata": {},
   "source": [
    "# Usuwanie zmiennych o co najmniej połowie brakujących danych"
   ]
  },
  {
   "cell_type": "code",
   "execution_count": 9,
   "id": "369873e0",
   "metadata": {},
   "outputs": [],
   "source": [
    "Braki_danych = Dane.isna().sum()\n",
    "i = 0\n",
    "j = 0\n",
    "while i < len(Dane.columns):\n",
    "    if Braki_danych[j] > 1 / 2 * len(Dane):\n",
    "        Dane.drop(Dane.columns[i], axis = 1, inplace = True)\n",
    "    else:\n",
    "        i = i + 1\n",
    "    j += 1"
   ]
  },
  {
   "cell_type": "raw",
   "id": "ab3ec807",
   "metadata": {},
   "source": [
    "# Usuwanie niepotrzebnych zmiennych tekstowych"
   ]
  },
  {
   "cell_type": "code",
   "execution_count": 10,
   "id": "478ca06f",
   "metadata": {},
   "outputs": [],
   "source": [
    "Dane.drop(['emp_title', 'url', 'desc', 'title'], axis = 1, inplace = True)"
   ]
  },
  {
   "cell_type": "raw",
   "id": "2d6e5e2f",
   "metadata": {},
   "source": [
    "# Usuwanie zmiennych czasowych"
   ]
  },
  {
   "cell_type": "code",
   "execution_count": 11,
   "id": "ba14eafd",
   "metadata": {},
   "outputs": [],
   "source": [
    "Dane.drop(['issue_d', 'earliest_cr_line', 'delinq_2yrs', 'inq_last_6mths'], axis = 1, inplace = True)\n",
    "Dane.drop(['total_acc', 'total_pymnt', 'total_pymnt_inv', 'total_rec_prncp', 'total_rec_int', 'total_rec_late_fee'], axis = 1, inplace = True)\n",
    "Dane.drop(['recoveries', 'collection_recovery_fee', 'last_pymnt_d', 'last_pymnt_amnt', 'last_credit_pull_d'], axis = 1, inplace = True)\n",
    "Dane.drop(['last_fico_range_high', 'last_fico_range_low', 'acc_now_delinq', 'delinq_amnt', 'debt_settlement_flag'], axis = 1, inplace = True)"
   ]
  },
  {
   "cell_type": "raw",
   "id": "a09b0195",
   "metadata": {},
   "source": [
    "# Usuwanie danych o zbyt małej różnorodnosci"
   ]
  },
  {
   "cell_type": "code",
   "execution_count": 12,
   "id": "1a745772",
   "metadata": {},
   "outputs": [],
   "source": [
    "i = 0\n",
    "while i < len(Dane.columns):\n",
    "    if len(Dane.groupby(Dane.columns[i]).size()) == 1:\n",
    "        Dane.drop(Dane.columns[i], axis = 1, inplace = True)\n",
    "    else:\n",
    "        i = i + 1"
   ]
  },
  {
   "cell_type": "raw",
   "id": "7c22b665",
   "metadata": {},
   "source": [
    "# Usuwanie braków danych"
   ]
  },
  {
   "cell_type": "code",
   "execution_count": 13,
   "id": "f2c63dde",
   "metadata": {},
   "outputs": [],
   "source": [
    "Dane.dropna(inplace = True)"
   ]
  },
  {
   "cell_type": "raw",
   "id": "3bc4e50b",
   "metadata": {},
   "source": [
    "# Zapisanie do pliku"
   ]
  },
  {
   "cell_type": "code",
   "execution_count": 14,
   "id": "98111df1",
   "metadata": {},
   "outputs": [],
   "source": [
    "Dane.to_csv('C:/Users/mkraw/Downloads/Kurs/Projekt/Loan_data_kopia.csv', index = False)"
   ]
  },
  {
   "cell_type": "code",
   "execution_count": 15,
   "id": "f25fc88e",
   "metadata": {},
   "outputs": [],
   "source": [
    "Dane = pd.read_csv('C:/Users/mkraw/Downloads/Kurs/Projekt/Loan_data_kopia.csv', delimiter=',')"
   ]
  },
  {
   "cell_type": "raw",
   "id": "9579ada5",
   "metadata": {},
   "source": [
    "# Zmiana zmiennych opisowych na ilosciowe"
   ]
  },
  {
   "cell_type": "code",
   "execution_count": 16,
   "id": "9313118a",
   "metadata": {},
   "outputs": [
    {
     "name": "stderr",
     "output_type": "stream",
     "text": [
      "C:\\Users\\mkraw\\AppData\\Local\\Temp/ipykernel_26540/871762263.py:3: SettingWithCopyWarning: \n",
      "A value is trying to be set on a copy of a slice from a DataFrame\n",
      "\n",
      "See the caveats in the documentation: https://pandas.pydata.org/pandas-docs/stable/user_guide/indexing.html#returning-a-view-versus-a-copy\n",
      "  Dane.term[i] = 0\n",
      "C:\\Users\\mkraw\\AppData\\Local\\Temp/ipykernel_26540/871762263.py:5: SettingWithCopyWarning: \n",
      "A value is trying to be set on a copy of a slice from a DataFrame\n",
      "\n",
      "See the caveats in the documentation: https://pandas.pydata.org/pandas-docs/stable/user_guide/indexing.html#returning-a-view-versus-a-copy\n",
      "  Dane.term[i] = 1\n"
     ]
    }
   ],
   "source": [
    "for i in range(0, len(Dane)):\n",
    "    if Dane.term[i] == ' 36 months':\n",
    "        Dane.term[i] = 0\n",
    "    else:\n",
    "        Dane.term[i] = 1"
   ]
  },
  {
   "cell_type": "code",
   "execution_count": 17,
   "id": "f9281cb4",
   "metadata": {},
   "outputs": [
    {
     "name": "stderr",
     "output_type": "stream",
     "text": [
      "C:\\Users\\mkraw\\AppData\\Local\\Temp/ipykernel_26540/3019499307.py:5: SettingWithCopyWarning: \n",
      "A value is trying to be set on a copy of a slice from a DataFrame\n",
      "\n",
      "See the caveats in the documentation: https://pandas.pydata.org/pandas-docs/stable/user_guide/indexing.html#returning-a-view-versus-a-copy\n",
      "  Dane.int_rate[i] = float(Procent_3)\n"
     ]
    }
   ],
   "source": [
    "for i in range(0, len(Dane)):\n",
    "    Procent = Dane.int_rate[i]\n",
    "    Procent_2 = Procent.strip(' ')\n",
    "    Procent_3 = Procent_2.strip('%')\n",
    "    Dane.int_rate[i] = float(Procent_3)"
   ]
  },
  {
   "cell_type": "code",
   "execution_count": 18,
   "id": "b550b75f",
   "metadata": {},
   "outputs": [
    {
     "name": "stderr",
     "output_type": "stream",
     "text": [
      "C:\\Users\\mkraw\\AppData\\Local\\Temp/ipykernel_26540/2203420458.py:23: SettingWithCopyWarning: \n",
      "A value is trying to be set on a copy of a slice from a DataFrame\n",
      "\n",
      "See the caveats in the documentation: https://pandas.pydata.org/pandas-docs/stable/user_guide/indexing.html#returning-a-view-versus-a-copy\n",
      "  Dane.emp_length[i] = 10\n",
      "C:\\Users\\mkraw\\AppData\\Local\\Temp/ipykernel_26540/2203420458.py:3: SettingWithCopyWarning: \n",
      "A value is trying to be set on a copy of a slice from a DataFrame\n",
      "\n",
      "See the caveats in the documentation: https://pandas.pydata.org/pandas-docs/stable/user_guide/indexing.html#returning-a-view-versus-a-copy\n",
      "  Dane.emp_length[i] = 0\n",
      "C:\\Users\\mkraw\\AppData\\Local\\Temp/ipykernel_26540/2203420458.py:5: SettingWithCopyWarning: \n",
      "A value is trying to be set on a copy of a slice from a DataFrame\n",
      "\n",
      "See the caveats in the documentation: https://pandas.pydata.org/pandas-docs/stable/user_guide/indexing.html#returning-a-view-versus-a-copy\n",
      "  Dane.emp_length[i] = 1\n",
      "C:\\Users\\mkraw\\AppData\\Local\\Temp/ipykernel_26540/2203420458.py:9: SettingWithCopyWarning: \n",
      "A value is trying to be set on a copy of a slice from a DataFrame\n",
      "\n",
      "See the caveats in the documentation: https://pandas.pydata.org/pandas-docs/stable/user_guide/indexing.html#returning-a-view-versus-a-copy\n",
      "  Dane.emp_length[i] = 3\n",
      "C:\\Users\\mkraw\\AppData\\Local\\Temp/ipykernel_26540/2203420458.py:19: SettingWithCopyWarning: \n",
      "A value is trying to be set on a copy of a slice from a DataFrame\n",
      "\n",
      "See the caveats in the documentation: https://pandas.pydata.org/pandas-docs/stable/user_guide/indexing.html#returning-a-view-versus-a-copy\n",
      "  Dane.emp_length[i] = 8\n",
      "C:\\Users\\mkraw\\AppData\\Local\\Temp/ipykernel_26540/2203420458.py:21: SettingWithCopyWarning: \n",
      "A value is trying to be set on a copy of a slice from a DataFrame\n",
      "\n",
      "See the caveats in the documentation: https://pandas.pydata.org/pandas-docs/stable/user_guide/indexing.html#returning-a-view-versus-a-copy\n",
      "  Dane.emp_length[i] = 9\n",
      "C:\\Users\\mkraw\\AppData\\Local\\Temp/ipykernel_26540/2203420458.py:11: SettingWithCopyWarning: \n",
      "A value is trying to be set on a copy of a slice from a DataFrame\n",
      "\n",
      "See the caveats in the documentation: https://pandas.pydata.org/pandas-docs/stable/user_guide/indexing.html#returning-a-view-versus-a-copy\n",
      "  Dane.emp_length[i] = 4\n",
      "C:\\Users\\mkraw\\AppData\\Local\\Temp/ipykernel_26540/2203420458.py:13: SettingWithCopyWarning: \n",
      "A value is trying to be set on a copy of a slice from a DataFrame\n",
      "\n",
      "See the caveats in the documentation: https://pandas.pydata.org/pandas-docs/stable/user_guide/indexing.html#returning-a-view-versus-a-copy\n",
      "  Dane.emp_length[i] = 5\n",
      "C:\\Users\\mkraw\\AppData\\Local\\Temp/ipykernel_26540/2203420458.py:15: SettingWithCopyWarning: \n",
      "A value is trying to be set on a copy of a slice from a DataFrame\n",
      "\n",
      "See the caveats in the documentation: https://pandas.pydata.org/pandas-docs/stable/user_guide/indexing.html#returning-a-view-versus-a-copy\n",
      "  Dane.emp_length[i] = 6\n",
      "C:\\Users\\mkraw\\AppData\\Local\\Temp/ipykernel_26540/2203420458.py:7: SettingWithCopyWarning: \n",
      "A value is trying to be set on a copy of a slice from a DataFrame\n",
      "\n",
      "See the caveats in the documentation: https://pandas.pydata.org/pandas-docs/stable/user_guide/indexing.html#returning-a-view-versus-a-copy\n",
      "  Dane.emp_length[i] = 2\n",
      "C:\\Users\\mkraw\\AppData\\Local\\Temp/ipykernel_26540/2203420458.py:17: SettingWithCopyWarning: \n",
      "A value is trying to be set on a copy of a slice from a DataFrame\n",
      "\n",
      "See the caveats in the documentation: https://pandas.pydata.org/pandas-docs/stable/user_guide/indexing.html#returning-a-view-versus-a-copy\n",
      "  Dane.emp_length[i] = 7\n"
     ]
    }
   ],
   "source": [
    "for i in range(0, len(Dane)):\n",
    "    if Dane.emp_length[i] == '< 1 year':\n",
    "        Dane.emp_length[i] = 0\n",
    "    if Dane.emp_length[i] == '1 year':\n",
    "        Dane.emp_length[i] = 1\n",
    "    if Dane.emp_length[i] == '2 years':\n",
    "        Dane.emp_length[i] = 2\n",
    "    if Dane.emp_length[i] == '3 years':\n",
    "        Dane.emp_length[i] = 3\n",
    "    if Dane.emp_length[i] == '4 years':\n",
    "        Dane.emp_length[i] = 4\n",
    "    if Dane.emp_length[i] == '5 years':\n",
    "        Dane.emp_length[i] = 5\n",
    "    if Dane.emp_length[i] == '6 years':\n",
    "        Dane.emp_length[i] = 6\n",
    "    if Dane.emp_length[i] == '7 years':\n",
    "        Dane.emp_length[i] = 7\n",
    "    if Dane.emp_length[i] == '8 years':\n",
    "        Dane.emp_length[i] = 8\n",
    "    if Dane.emp_length[i] == '9 years':\n",
    "        Dane.emp_length[i] = 9\n",
    "    if Dane.emp_length[i] == '10+ years':\n",
    "        Dane.emp_length[i] = 10"
   ]
  },
  {
   "cell_type": "code",
   "execution_count": 19,
   "id": "ec51be1d",
   "metadata": {},
   "outputs": [
    {
     "name": "stderr",
     "output_type": "stream",
     "text": [
      "C:\\Users\\mkraw\\AppData\\Local\\Temp/ipykernel_26540/267926372.py:5: SettingWithCopyWarning: \n",
      "A value is trying to be set on a copy of a slice from a DataFrame\n",
      "\n",
      "See the caveats in the documentation: https://pandas.pydata.org/pandas-docs/stable/user_guide/indexing.html#returning-a-view-versus-a-copy\n",
      "  Dane.revol_util[i] = float(Procent_3)\n"
     ]
    }
   ],
   "source": [
    "for i in range(0, len(Dane)):\n",
    "    Procent = Dane.revol_util[i]\n",
    "    Procent_2 = Procent.strip(' ')\n",
    "    Procent_3 = Procent_2.strip('%')\n",
    "    Dane.revol_util[i] = float(Procent_3)"
   ]
  },
  {
   "cell_type": "raw",
   "id": "188d55d1",
   "metadata": {},
   "source": [
    "# Dodanie zmiennej loans_credit_policy"
   ]
  },
  {
   "cell_type": "code",
   "execution_count": 20,
   "id": "654bd2b2",
   "metadata": {},
   "outputs": [
    {
     "name": "stderr",
     "output_type": "stream",
     "text": [
      "C:\\Users\\mkraw\\AppData\\Local\\Temp/ipykernel_26540/2544988665.py:4: SettingWithCopyWarning: \n",
      "A value is trying to be set on a copy of a slice from a DataFrame\n",
      "\n",
      "See the caveats in the documentation: https://pandas.pydata.org/pandas-docs/stable/user_guide/indexing.html#returning-a-view-versus-a-copy\n",
      "  Dane.loans_credit_policy[i] = 1\n",
      "C:\\Users\\mkraw\\AppData\\Local\\Temp/ipykernel_26540/2544988665.py:8: SettingWithCopyWarning: \n",
      "A value is trying to be set on a copy of a slice from a DataFrame\n",
      "\n",
      "See the caveats in the documentation: https://pandas.pydata.org/pandas-docs/stable/user_guide/indexing.html#returning-a-view-versus-a-copy\n",
      "  Dane.loan_status[i] = 1\n",
      "C:\\Users\\mkraw\\AppData\\Local\\Temp/ipykernel_26540/2544988665.py:10: SettingWithCopyWarning: \n",
      "A value is trying to be set on a copy of a slice from a DataFrame\n",
      "\n",
      "See the caveats in the documentation: https://pandas.pydata.org/pandas-docs/stable/user_guide/indexing.html#returning-a-view-versus-a-copy\n",
      "  Dane.loan_status[i] = 0\n",
      "C:\\Users\\mkraw\\AppData\\Local\\Temp/ipykernel_26540/2544988665.py:6: SettingWithCopyWarning: \n",
      "A value is trying to be set on a copy of a slice from a DataFrame\n",
      "\n",
      "See the caveats in the documentation: https://pandas.pydata.org/pandas-docs/stable/user_guide/indexing.html#returning-a-view-versus-a-copy\n",
      "  Dane.loans_credit_policy[i] = 0\n"
     ]
    }
   ],
   "source": [
    "Dane.insert(14, 'loans_credit_policy', 0)\n",
    "for i in range(0, len(Dane)):\n",
    "    if Dane.loan_status[i] == 'Fully Paid' or Dane.loan_status[i] == 'Charged Off':\n",
    "        Dane.loans_credit_policy[i] = 1\n",
    "    if Dane.loan_status[i] == 'Does not meet the credit policy. Status:Fully Paid' or Dane.loan_status[i] == 'Does not meet the credit policy. Status:Charged Off':\n",
    "        Dane.loans_credit_policy[i] = 0\n",
    "    if Dane.loan_status[i] == 'Fully Paid' or Dane.loan_status[i] == 'Does not meet the credit policy. Status:Fully Paid':\n",
    "        Dane.loan_status[i] = 1\n",
    "    if Dane.loan_status[i] == 'Charged Off' or Dane.loan_status[i] == 'Does not meet the credit policy. Status:Charged Off':\n",
    "        Dane.loan_status[i] = 0"
   ]
  },
  {
   "cell_type": "raw",
   "id": "312a09de",
   "metadata": {},
   "source": [
    "# Dodanie zmiennych binarnych"
   ]
  },
  {
   "cell_type": "code",
   "execution_count": 21,
   "id": "40f92357",
   "metadata": {},
   "outputs": [],
   "source": [
    "Dane = pd.get_dummies(Dane, columns=['grade'])\n",
    "Dane = pd.get_dummies(Dane, columns=['home_ownership'])\n",
    "Dane = pd.get_dummies(Dane, columns=['verification_status'])"
   ]
  },
  {
   "cell_type": "raw",
   "id": "125f6df6",
   "metadata": {},
   "source": [
    "# Zmiana typu zmiennych"
   ]
  },
  {
   "cell_type": "code",
   "execution_count": 22,
   "id": "658fdd39",
   "metadata": {},
   "outputs": [],
   "source": [
    "Dane[['id']] = Dane[['id']].astype(object)\n",
    "Dane[['int_rate', 'revol_util', 'emp_length']] = Dane[['int_rate', 'revol_util', 'emp_length']].astype(float)\n",
    "Dane[['term', 'loan_status']] = Dane[['term', 'loan_status']].astype(np.int64)"
   ]
  },
  {
   "cell_type": "raw",
   "id": "475988f8",
   "metadata": {},
   "source": [
    "# Wyszukanie i usunięcie outliersów"
   ]
  },
  {
   "cell_type": "code",
   "execution_count": 23,
   "id": "cce0c21a",
   "metadata": {},
   "outputs": [],
   "source": [
    "z = np.abs(stats.zscore(Dane[['loan_amnt', 'funded_amnt', 'funded_amnt_inv', 'int_rate', 'installment',\n",
    "       'emp_length', 'annual_inc', 'dti', 'fico_range_low', 'open_acc',\n",
    "       'pub_rec', 'revol_bal', 'revol_util', 'pub_rec_bankruptcies', 'tax_liens']]))\n",
    "Dane_outliers_removed = Dane[(z<3).all(axis=1)]\n",
    "Dane_outliers_removed.to_csv('C:/Users/mkraw/Downloads/Kurs/Projekt/Loan_data_bez_outliers.csv', index = False)\n",
    "Dane_outliers_removed = pd.read_csv('C:/Users/mkraw/Downloads/Kurs/Projekt/Loan_data_bez_outliers.csv', delimiter=',')"
   ]
  },
  {
   "cell_type": "raw",
   "id": "c3c7259b",
   "metadata": {},
   "source": [
    "# Sprawdzenie wpływu niektórych zmiennych na prawdopodobieństwo wypłacenia zobowiązania"
   ]
  },
  {
   "cell_type": "code",
   "execution_count": 24,
   "id": "1d940472",
   "metadata": {},
   "outputs": [],
   "source": [
    "x_fico = Dane[['fico_range_low']]\n",
    "x_home = Dane[['home_ownership_MORTGAGE', 'home_ownership_OTHER', 'home_ownership_OWN', 'home_ownership_RENT']]\n",
    "x_income = Dane[['annual_inc']]\n",
    "x_emp_length = Dane[['emp_length']]\n",
    "x_loan_amnt = Dane[['loan_amnt']]\n",
    "y = Dane[['loan_status']]"
   ]
  },
  {
   "cell_type": "code",
   "execution_count": 25,
   "id": "d989d6ee",
   "metadata": {},
   "outputs": [
    {
     "name": "stderr",
     "output_type": "stream",
     "text": [
      "C:\\Users\\mkraw\\anaconda3\\lib\\site-packages\\sklearn\\utils\\validation.py:63: DataConversionWarning: A column-vector y was passed when a 1d array was expected. Please change the shape of y to (n_samples, ), for example using ravel().\n",
      "  return f(*args, **kwargs)\n"
     ]
    },
    {
     "data": {
      "text/plain": [
       "array([[0.00250224]])"
      ]
     },
     "execution_count": 25,
     "metadata": {},
     "output_type": "execute_result"
    }
   ],
   "source": [
    "RegLog_fico = LogisticRegression()\n",
    "RegLog_fico.fit(x_fico, y)\n",
    "RegLog_fico.coef_"
   ]
  },
  {
   "cell_type": "raw",
   "id": "db726902",
   "metadata": {},
   "source": [
    "# Jeżeli wynik fico zwiększy się o 1 pp., prawdopodobieństwo wykonania zobowiązania wzrasta o ok. 0,25 pp."
   ]
  },
  {
   "cell_type": "code",
   "execution_count": 26,
   "id": "e8488dde",
   "metadata": {},
   "outputs": [
    {
     "name": "stderr",
     "output_type": "stream",
     "text": [
      "C:\\Users\\mkraw\\anaconda3\\lib\\site-packages\\sklearn\\utils\\validation.py:63: DataConversionWarning: A column-vector y was passed when a 1d array was expected. Please change the shape of y to (n_samples, ), for example using ravel().\n",
      "  return f(*args, **kwargs)\n"
     ]
    },
    {
     "data": {
      "text/plain": [
       "array([[ 0.18600679, -0.35307038,  0.12124083,  0.04679345]])"
      ]
     },
     "execution_count": 26,
     "metadata": {},
     "output_type": "execute_result"
    }
   ],
   "source": [
    "RegLog_home = LogisticRegression()\n",
    "RegLog_home.fit(x_home, y)\n",
    "RegLog_home.coef_"
   ]
  },
  {
   "cell_type": "raw",
   "id": "0b8cd334",
   "metadata": {},
   "source": [
    "# Współczynniki wskazują, że tylko dla jednej grupy (home_ownership_OTHER) prawdopobieństwo spłacenia pożyczki maleje."
   ]
  },
  {
   "cell_type": "code",
   "execution_count": 27,
   "id": "58236009",
   "metadata": {},
   "outputs": [
    {
     "name": "stderr",
     "output_type": "stream",
     "text": [
      "C:\\Users\\mkraw\\anaconda3\\lib\\site-packages\\sklearn\\utils\\validation.py:63: DataConversionWarning: A column-vector y was passed when a 1d array was expected. Please change the shape of y to (n_samples, ), for example using ravel().\n",
      "  return f(*args, **kwargs)\n"
     ]
    },
    {
     "data": {
      "text/plain": [
       "array([[2.48478671e-05]])"
      ]
     },
     "execution_count": 27,
     "metadata": {},
     "output_type": "execute_result"
    }
   ],
   "source": [
    "RegLog_income = LogisticRegression()\n",
    "RegLog_income.fit(x_income, y)\n",
    "RegLog_income.coef_"
   ]
  },
  {
   "cell_type": "raw",
   "id": "dfb9a85f",
   "metadata": {},
   "source": [
    "# Zwiększające się dochody jedynie w niewielki sposób zwiększają prawdopodobieństwo na spłacenie pożyczki"
   ]
  },
  {
   "cell_type": "code",
   "execution_count": 28,
   "id": "68475bb7",
   "metadata": {},
   "outputs": [
    {
     "name": "stderr",
     "output_type": "stream",
     "text": [
      "C:\\Users\\mkraw\\anaconda3\\lib\\site-packages\\sklearn\\utils\\validation.py:63: DataConversionWarning: A column-vector y was passed when a 1d array was expected. Please change the shape of y to (n_samples, ), for example using ravel().\n",
      "  return f(*args, **kwargs)\n"
     ]
    },
    {
     "data": {
      "text/plain": [
       "array([[-0.01216756]])"
      ]
     },
     "execution_count": 28,
     "metadata": {},
     "output_type": "execute_result"
    }
   ],
   "source": [
    "RegLog_emp_length = LogisticRegression()\n",
    "RegLog_emp_length.fit(x_emp_length, y)\n",
    "RegLog_emp_length.coef_"
   ]
  },
  {
   "cell_type": "raw",
   "id": "64d4cdef",
   "metadata": {},
   "source": [
    "# Okazuje się, że dłuższy staż pracy zmniejsza prawdopodobieństwo na spłacenie pożyczki"
   ]
  },
  {
   "cell_type": "code",
   "execution_count": 29,
   "id": "0cd3469d",
   "metadata": {},
   "outputs": [
    {
     "name": "stderr",
     "output_type": "stream",
     "text": [
      "C:\\Users\\mkraw\\anaconda3\\lib\\site-packages\\sklearn\\utils\\validation.py:63: DataConversionWarning: A column-vector y was passed when a 1d array was expected. Please change the shape of y to (n_samples, ), for example using ravel().\n",
      "  return f(*args, **kwargs)\n"
     ]
    },
    {
     "data": {
      "text/plain": [
       "array([[-1.64277024e-05]])"
      ]
     },
     "execution_count": 29,
     "metadata": {},
     "output_type": "execute_result"
    }
   ],
   "source": [
    "RegLog_loan_amnt = LogisticRegression()\n",
    "RegLog_loan_amnt.fit(x_loan_amnt, y)\n",
    "RegLog_loan_amnt.coef_"
   ]
  },
  {
   "cell_type": "raw",
   "id": "460d5f28",
   "metadata": {},
   "source": [
    "# Im wyższa kwota pożyczki zmniejsza prawdopodobieństwo na jej spłatę"
   ]
  },
  {
   "cell_type": "code",
   "execution_count": 31,
   "id": "09e34c58",
   "metadata": {},
   "outputs": [],
   "source": [
    "X = Dane[['int_rate', 'revol_util', 'pub_rec', 'pub_rec_bankruptcies', 'loan_amnt', 'funded_amnt', 'dti', 'funded_amnt_inv', 'installment', 'emp_length', 'revol_bal', 'open_acc', 'annual_inc', 'fico_range_low', 'term', 'loans_credit_policy', 'grade_A', 'grade_B', 'grade_C', 'grade_D', 'grade_E', 'grade_F', 'grade_G', 'home_ownership_MORTGAGE', 'home_ownership_OTHER', 'home_ownership_OWN', 'home_ownership_RENT', 'verification_status_Verified', 'verification_status_Not Verified', 'verification_status_Source Verified', 'tax_liens']]\n",
    "Y = Dane['loan_status']"
   ]
  },
  {
   "cell_type": "code",
   "execution_count": null,
   "id": "0f469d87",
   "metadata": {},
   "outputs": [],
   "source": [
    "# Standaryzacja zmiennych"
   ]
  },
  {
   "cell_type": "code",
   "execution_count": 32,
   "id": "1a41a764",
   "metadata": {},
   "outputs": [
    {
     "data": {
      "image/png": "[encoded data removed]",
      "text/plain": [
       "<Figure size 1200x800 with 1 Axes>"
      ]
     },
     "metadata": {
      "needs_background": "light"
     },
     "output_type": "display_data"
    },
    {
     "data": {
      "text/plain": [
       "(40002, 18)"
      ]
     },
     "execution_count": 32,
     "metadata": {},
     "output_type": "execute_result"
    }
   ],
   "source": [
    "scaler = StandardScaler()\n",
    "X_scaled = scaler.fit_transform(X)\n",
    "pca = PCA(random_state = 42)\n",
    "pca.fit(X_scaled)\n",
    "pca.components_[0]\n",
    "pca.explained_variance_ratio_\n",
    "var_cumu = np.cumsum(pca.explained_variance_ratio_)\n",
    "fig = plt.figure(figsize = [12,8], dpi = 100)\n",
    "plt.vlines(x=18, ymax=1, ymin=0, colors=\"r\", linestyles=\"--\")\n",
    "plt.hlines(y=0.95, xmax=30, xmin=0, colors=\"g\", linestyles=\"--\")\n",
    "plt.plot(var_cumu)\n",
    "plt.ylabel(\"Cumulative variance explained\")\n",
    "plt.show()\n",
    "pca_final = IncrementalPCA(n_components=18)\n",
    "X_pca_final = pca_final.fit_transform(X_scaled)\n",
    "X_pca_final.shape"
   ]
  },
  {
   "cell_type": "raw",
   "id": "b9d7aaeb",
   "metadata": {},
   "source": [
    "# Klasteryzacja KMeans"
   ]
  },
  {
   "cell_type": "code",
   "execution_count": 83,
   "id": "209cb20b",
   "metadata": {},
   "outputs": [
    {
     "name": "stdout",
     "output_type": "stream",
     "text": [
      "For n_clusters=2, the silhouette score is 0.1692168941951423\n",
      "For n_clusters=3, the silhouette score is 0.11655774572093654\n",
      "For n_clusters=4, the silhouette score is 0.133600044937032\n",
      "For n_clusters=5, the silhouette score is 0.14266200196500645\n",
      "For n_clusters=6, the silhouette score is 0.14775964536463837\n",
      "For n_clusters=7, the silhouette score is 0.14488087068027117\n",
      "For n_clusters=8, the silhouette score is 0.17117852880126944\n"
     ]
    }
   ],
   "source": [
    "k_m = []\n",
    "range_n_clusters = [2, 3, 4, 5, 6, 7, 8]\n",
    "for num_clusters in range_n_clusters:\n",
    "    kmeans = KMeans(n_clusters=num_clusters, max_iter=1000)\n",
    "    kmeans.fit(X_scaled)\n",
    "    k_m.append(kmeans.inertia_)\n",
    "\n",
    "for num_clusters in range_n_clusters:\n",
    "    kmeans = KMeans(n_clusters=num_clusters, max_iter=1000)\n",
    "    kmeans.fit(X_scaled)\n",
    "    cluster_labels = kmeans.labels_\n",
    "    silhouette_avg = silhouette_score(X_scaled, cluster_labels)\n",
    "    print(\"For n_clusters={0}, the silhouette score is {1}\".format(num_clusters, silhouette_avg))"
   ]
  },
  {
   "cell_type": "raw",
   "id": "d8976f67",
   "metadata": {},
   "source": [
    "# Klasteryzacja hierarchiczna"
   ]
  },
  {
   "cell_type": "code",
   "execution_count": 89,
   "id": "3eb125af",
   "metadata": {},
   "outputs": [
    {
     "data": {
      "image/png": "[encoded data removed]",
      "text/plain": [
       "<Figure size 432x288 with 1 Axes>"
      ]
     },
     "metadata": {
      "needs_background": "light"
     },
     "output_type": "display_data"
    },
    {
     "data": {
      "text/plain": [
       "<Figure size 4000x4000 with 0 Axes>"
      ]
     },
     "metadata": {},
     "output_type": "display_data"
    }
   ],
   "source": [
    "cl_mergings = linkage(X_scaled, method=\"complete\", metric='euclidean')\n",
    "dendrogram(cl_mergings)\n",
    "plt.show()"
   ]
  },
  {
   "cell_type": "code",
   "execution_count": 88,
   "id": "b067918e",
   "metadata": {},
   "outputs": [
    {
     "data": {
      "text/plain": [
       "array([0, 0, 0, ..., 0, 0, 0])"
      ]
     },
     "execution_count": 88,
     "metadata": {},
     "output_type": "execute_result"
    }
   ],
   "source": [
    "cl_cluster_labels = cut_tree(cl_mergings, n_clusters=2).reshape(-1, )\n",
    "cl_cluster_labels"
   ]
  },
  {
   "cell_type": "raw",
   "id": "10f67290",
   "metadata": {},
   "source": [
    "# Przydzielenie zmiennych objaśniających i zmiennej objaśnianej"
   ]
  },
  {
   "cell_type": "raw",
   "id": "c2168dd2",
   "metadata": {},
   "source": [
    "# Estymacja modeli"
   ]
  },
  {
   "cell_type": "code",
   "execution_count": 75,
   "id": "8a347540",
   "metadata": {},
   "outputs": [
    {
     "name": "stderr",
     "output_type": "stream",
     "text": [
      "C:\\Users\\mkraw\\anaconda3\\lib\\site-packages\\sklearn\\linear_model\\_logistic.py:763: ConvergenceWarning: lbfgs failed to converge (status=1):\n",
      "STOP: TOTAL NO. of ITERATIONS REACHED LIMIT.\n",
      "\n",
      "Increase the number of iterations (max_iter) or scale the data as shown in:\n",
      "    https://scikit-learn.org/stable/modules/preprocessing.html\n",
      "Please also refer to the documentation for alternative solver options:\n",
      "    https://scikit-learn.org/stable/modules/linear_model.html#logistic-regression\n",
      "  n_iter_i = _check_optimize_result(\n"
     ]
    }
   ],
   "source": [
    "auroc = {}\n",
    "x_train, x_test, y_train, y_test = train_test_split(X, Y, test_size = 0.2)\n",
    "RegLog = LogisticRegression()\n",
    "RegLog.fit(x_train, y_train)\n",
    "y_p_test = RegLog.predict(x_test)\n",
    "auroc = pd.DataFrame({'Metoda':['Regresja logistyczna'], 'Score':[RegLog.score(x_test, y_test)], 'f1':[f1_score(y_test, y_p_test)], 'AUROC':[metrics.roc_auc_score(y_p_test, y_test)]}, index={'0'})\n",
    "dtree_t = DecisionTreeClassifier()\n",
    "dtree_t.fit(x_train, y_train)\n",
    "y_p_test = dtree_t.predict(x_test)\n",
    "tempResultsDf = pd.DataFrame({'Metoda':['Drzewo decyzyjne'], 'Score':[dtree_t.score(x_test, y_test)], 'f1':[f1_score(y_test, y_p_test)], 'AUROC':[metrics.roc_auc_score(y_p_test, y_test)]}, index={'1'})\n",
    "auroc = pd.concat([auroc, tempResultsDf])\n",
    "rf = RandomForestClassifier(n_estimators=100)\n",
    "rf.fit(x_train, y_train)\n",
    "y_p_test = rf.predict(x_test)\n",
    "tempResultsDf = pd.DataFrame({'Metoda':['Las losowy'], 'Score':[rf.score(x_test, y_test)], 'f1':[f1_score(y_test, y_p_test)], 'AUROC': [metrics.roc_auc_score(y_p_test, y_test)]}, index={'2'})\n",
    "auroc = pd.concat([auroc, tempResultsDf])\n",
    "gradient = GradientBoostingClassifier()\n",
    "gradient.fit(x_train, y_train)\n",
    "y_p_test = gradient.predict(x_test)\n",
    "tempResultsDf = pd.DataFrame({'Metoda':['Gradient'], 'Score':[gradient.score(x_test, y_test)], 'f1':[f1_score(y_test, y_p_test)], 'AUROC': [metrics.roc_auc_score(y_p_test, y_test)]}, index={'3'})\n",
    "auroc = pd.concat([auroc, tempResultsDf])\n",
    "ada_boost = AdaBoostClassifier()\n",
    "ada_boost.fit(x_train, y_train)\n",
    "y_p_test = ada_boost.predict(x_test)\n",
    "tempResultsDf = pd.DataFrame({'Metoda':['Ada boost'], 'Score':[ada_boost.score(x_test, y_test)], 'f1':[f1_score(y_test, y_p_test)], 'AUROC': [metrics.roc_auc_score(y_p_test, y_test)]}, index={'4'})\n",
    "auroc = pd.concat([auroc, tempResultsDf])\n",
    "bagging = BaggingClassifier()\n",
    "bagging.fit(x_train, y_train)\n",
    "y_p_test = bagging.predict(x_test)\n",
    "tempResultsDf = pd.DataFrame({'Metoda':['Bagging'], 'Score':[bagging.score(x_test, y_test)], 'f1':[f1_score(y_test, y_p_test)], 'AUROC': [metrics.roc_auc_score(y_p_test, y_test)]}, index={'5'})\n",
    "auroc = pd.concat([auroc, tempResultsDf])\n",
    "kneighbors = KNeighborsClassifier()\n",
    "kneighbors.fit(x_train, y_train)\n",
    "y_p_test = kneighbors.predict(x_test)\n",
    "tempResultsDf = pd.DataFrame({'Metoda':['K-neighbours'], 'Score':[kneighbors.score(x_test, y_test)], 'f1':[f1_score(y_test, y_p_test)], 'AUROC': [metrics.roc_auc_score(y_p_test, y_test)]}, index={'6'})\n",
    "auroc = pd.concat([auroc, tempResultsDf])"
   ]
  },
  {
   "cell_type": "code",
   "execution_count": 68,
   "id": "a4edcf08",
   "metadata": {},
   "outputs": [],
   "source": [
    "auroc_2 = {}\n",
    "x_train_pca, x_test_pca, y_train_pca, y_test_pca = train_test_split(X_pca_final, Y, test_size = 0.2)\n",
    "dtree_t = DecisionTreeClassifier()\n",
    "dtree_t.fit(x_train_pca, y_train_pca)\n",
    "y_p_test = dtree_t.predict(x_test_pca)\n",
    "auroc_2 = pd.DataFrame({'Metoda':['Drzewo decyzyjne'], 'Score':[dtree_t.score(x_test_pca, y_test_pca)], 'f1':[f1_score(y_test_pca, y_p_test)], 'AUROC':[metrics.roc_auc_score(y_p_test, y_test_pca)]}, index={'1'})\n",
    "rf = RandomForestClassifier(n_estimators=100)\n",
    "rf.fit(x_train_pca, y_train_pca)\n",
    "y_p_test = rf.predict(x_test_pca)\n",
    "tempResultsDf = pd.DataFrame({'Metoda':['Las losowy'], 'Score':[rf.score(x_test_pca, y_test_pca)], 'f1':[f1_score(y_test_pca, y_p_test)], 'AUROC': [metrics.roc_auc_score(y_p_test, y_test_pca)]}, index={'2'})\n",
    "auroc_2 = pd.concat([auroc_2, tempResultsDf])\n",
    "gradient = GradientBoostingClassifier()\n",
    "gradient.fit(x_train_pca, y_train_pca)\n",
    "y_p_test = gradient.predict(x_test_pca)\n",
    "tempResultsDf = pd.DataFrame({'Metoda':['Gradient'], 'Score':[gradient.score(x_test_pca, y_test_pca)], 'f1':[f1_score(y_test_pca, y_p_test)], 'AUROC': [metrics.roc_auc_score(y_p_test, y_test_pca)]}, index={'3'})\n",
    "auroc_2 = pd.concat([auroc_2, tempResultsDf])\n",
    "ada_boost = AdaBoostClassifier()\n",
    "ada_boost.fit(x_train_pca, y_train_pca)\n",
    "y_p_test = ada_boost.predict(x_test_pca)\n",
    "tempResultsDf = pd.DataFrame({'Metoda':['Ada boost'], 'Score':[ada_boost.score(x_test_pca, y_test_pca)], 'f1':[f1_score(y_test_pca, y_p_test)], 'AUROC': [metrics.roc_auc_score(y_p_test, y_test_pca)]}, index={'4'})\n",
    "auroc_2 = pd.concat([auroc_2, tempResultsDf])\n",
    "bagging = BaggingClassifier()\n",
    "bagging.fit(x_train_pca, y_train_pca)\n",
    "y_p_test = bagging.predict(x_test_pca)\n",
    "tempResultsDf = pd.DataFrame({'Metoda':['Bagging'], 'Score':[bagging.score(x_test_pca, y_test_pca)], 'f1':[f1_score(y_test_pca, y_p_test)], 'AUROC': [metrics.roc_auc_score(y_p_test, y_test_pca)]}, index={'5'})\n",
    "auroc_2 = pd.concat([auroc_2, tempResultsDf])\n",
    "kneighbors = KNeighborsClassifier()\n",
    "kneighbors.fit(x_train_pca, y_train_pca)\n",
    "y_p_test = kneighbors.predict(x_test_pca)\n",
    "tempResultsDf = pd.DataFrame({'Metoda':['K-neighbours'], 'Score':[kneighbors.score(x_test_pca, y_test_pca)], 'f1':[f1_score(y_test_pca, y_p_test)], 'AUROC': [metrics.roc_auc_score(y_p_test, y_test_pca)]}, index={'6'})\n",
    "auroc_2 = pd.concat([auroc_2, tempResultsDf])"
   ]
  },
  {
   "cell_type": "code",
   "execution_count": 76,
   "id": "352df79b",
   "metadata": {},
   "outputs": [
    {
     "data": {
      "text/html": [
       "<div>\n",
       "<style scoped>\n",
       "    .dataframe tbody tr th:only-of-type {\n",
       "        vertical-align: middle;\n",
       "    }\n",
       "\n",
       "    .dataframe tbody tr th {\n",
       "        vertical-align: top;\n",
       "    }\n",
       "\n",
       "    .dataframe thead th {\n",
       "        text-align: right;\n",
       "    }\n",
       "</style>\n",
       "<table border=\"1\" class=\"dataframe\">\n",
       "  <thead>\n",
       "    <tr style=\"text-align: right;\">\n",
       "      <th></th>\n",
       "      <th>Metoda</th>\n",
       "      <th>Score</th>\n",
       "      <th>f1</th>\n",
       "      <th>AUROC</th>\n",
       "    </tr>\n",
       "  </thead>\n",
       "  <tbody>\n",
       "    <tr>\n",
       "      <th>0</th>\n",
       "      <td>Regresja logistyczna</td>\n",
       "      <td>0.854768</td>\n",
       "      <td>0.921603</td>\n",
       "      <td>0.664680</td>\n",
       "    </tr>\n",
       "    <tr>\n",
       "      <th>1</th>\n",
       "      <td>Drzewo decyzyjne</td>\n",
       "      <td>0.751781</td>\n",
       "      <td>0.853302</td>\n",
       "      <td>0.522885</td>\n",
       "    </tr>\n",
       "    <tr>\n",
       "      <th>2</th>\n",
       "      <td>Las losowy</td>\n",
       "      <td>0.852768</td>\n",
       "      <td>0.920384</td>\n",
       "      <td>0.583472</td>\n",
       "    </tr>\n",
       "    <tr>\n",
       "      <th>3</th>\n",
       "      <td>Gradient</td>\n",
       "      <td>0.855643</td>\n",
       "      <td>0.922091</td>\n",
       "      <td>0.771740</td>\n",
       "    </tr>\n",
       "    <tr>\n",
       "      <th>4</th>\n",
       "      <td>Ada boost</td>\n",
       "      <td>0.855018</td>\n",
       "      <td>0.921685</td>\n",
       "      <td>0.686744</td>\n",
       "    </tr>\n",
       "    <tr>\n",
       "      <th>5</th>\n",
       "      <td>Bagging</td>\n",
       "      <td>0.828646</td>\n",
       "      <td>0.904480</td>\n",
       "      <td>0.574403</td>\n",
       "    </tr>\n",
       "    <tr>\n",
       "      <th>6</th>\n",
       "      <td>K-neighbours</td>\n",
       "      <td>0.833896</td>\n",
       "      <td>0.908941</td>\n",
       "      <td>0.506928</td>\n",
       "    </tr>\n",
       "  </tbody>\n",
       "</table>\n",
       "</div>"
      ],
      "text/plain": [
       "                 Metoda     Score        f1     AUROC\n",
       "0  Regresja logistyczna  0.854768  0.921603  0.664680\n",
       "1      Drzewo decyzyjne  0.751781  0.853302  0.522885\n",
       "2            Las losowy  0.852768  0.920384  0.583472\n",
       "3              Gradient  0.855643  0.922091  0.771740\n",
       "4             Ada boost  0.855018  0.921685  0.686744\n",
       "5               Bagging  0.828646  0.904480  0.574403\n",
       "6          K-neighbours  0.833896  0.908941  0.506928"
      ]
     },
     "execution_count": 76,
     "metadata": {},
     "output_type": "execute_result"
    }
   ],
   "source": [
    "auroc"
   ]
  },
  {
   "cell_type": "code",
   "execution_count": 71,
   "id": "fe8b12fb",
   "metadata": {},
   "outputs": [
    {
     "data": {
      "text/html": [
       "<div>\n",
       "<style scoped>\n",
       "    .dataframe tbody tr th:only-of-type {\n",
       "        vertical-align: middle;\n",
       "    }\n",
       "\n",
       "    .dataframe tbody tr th {\n",
       "        vertical-align: top;\n",
       "    }\n",
       "\n",
       "    .dataframe thead th {\n",
       "        text-align: right;\n",
       "    }\n",
       "</style>\n",
       "<table border=\"1\" class=\"dataframe\">\n",
       "  <thead>\n",
       "    <tr style=\"text-align: right;\">\n",
       "      <th></th>\n",
       "      <th>Metoda</th>\n",
       "      <th>Score</th>\n",
       "      <th>f1</th>\n",
       "      <th>AUROC</th>\n",
       "    </tr>\n",
       "  </thead>\n",
       "  <tbody>\n",
       "    <tr>\n",
       "      <th>1</th>\n",
       "      <td>Drzewo decyzyjne</td>\n",
       "      <td>0.756280</td>\n",
       "      <td>0.856195</td>\n",
       "      <td>0.527857</td>\n",
       "    </tr>\n",
       "    <tr>\n",
       "      <th>2</th>\n",
       "      <td>Las losowy</td>\n",
       "      <td>0.851019</td>\n",
       "      <td>0.919296</td>\n",
       "      <td>0.555073</td>\n",
       "    </tr>\n",
       "    <tr>\n",
       "      <th>3</th>\n",
       "      <td>Gradient</td>\n",
       "      <td>0.855393</td>\n",
       "      <td>0.922009</td>\n",
       "      <td>0.606705</td>\n",
       "    </tr>\n",
       "    <tr>\n",
       "      <th>4</th>\n",
       "      <td>Ada boost</td>\n",
       "      <td>0.854893</td>\n",
       "      <td>0.921718</td>\n",
       "      <td>0.566986</td>\n",
       "    </tr>\n",
       "    <tr>\n",
       "      <th>5</th>\n",
       "      <td>Bagging</td>\n",
       "      <td>0.823522</td>\n",
       "      <td>0.901644</td>\n",
       "      <td>0.549668</td>\n",
       "    </tr>\n",
       "    <tr>\n",
       "      <th>6</th>\n",
       "      <td>K-neighbours</td>\n",
       "      <td>0.834771</td>\n",
       "      <td>0.908916</td>\n",
       "      <td>0.554092</td>\n",
       "    </tr>\n",
       "  </tbody>\n",
       "</table>\n",
       "</div>"
      ],
      "text/plain": [
       "             Metoda     Score        f1     AUROC\n",
       "1  Drzewo decyzyjne  0.756280  0.856195  0.527857\n",
       "2        Las losowy  0.851019  0.919296  0.555073\n",
       "3          Gradient  0.855393  0.922009  0.606705\n",
       "4         Ada boost  0.854893  0.921718  0.566986\n",
       "5           Bagging  0.823522  0.901644  0.549668\n",
       "6      K-neighbours  0.834771  0.908916  0.554092"
      ]
     },
     "execution_count": 71,
     "metadata": {},
     "output_type": "execute_result"
    }
   ],
   "source": [
    "auroc_2"
   ]
  },
  {
   "cell_type": "code",
   "execution_count": null,
   "id": "e496fa7b",
   "metadata": {},
   "outputs": [],
   "source": [
    "# Powyższych tabeli wynika, że najlepszym modelem jest gradient (AUROC = 0.771740)\n",
    "# utworzonym na podstawie zmiennych przed standaryzacją"
   ]
  },
  {
   "cell_type": "code",
   "execution_count": 96,
   "id": "df68a2f8",
   "metadata": {},
   "outputs": [],
   "source": [
    "def plot_learning_curve(estimator, title, X, y, ylim=None, cv=None,\n",
    "                        n_jobs=1, train_sizes=np.linspace(.1, 1.0, 5)):\n",
    "    plt.figure()\n",
    "    plt.title(title)\n",
    "    if ylim is not None:\n",
    "        plt.ylim(*ylim)\n",
    "    plt.xlabel(\"Training examples\")\n",
    "    plt.ylabel(\"Score\")\n",
    "    train_sizes, train_scores, test_scores = learning_curve(\n",
    "        estimator, X, y, cv=cv, n_jobs=n_jobs, train_sizes=train_sizes)\n",
    "    train_scores_mean = np.mean(train_scores, axis=1)\n",
    "    train_scores_std = np.std(train_scores, axis=1)\n",
    "    test_scores_mean = np.mean(test_scores, axis=1)\n",
    "    test_scores_std = np.std(test_scores, axis=1)\n",
    "    plt.grid()\n",
    "\n",
    "    plt.fill_between(train_sizes, train_scores_mean - train_scores_std,\n",
    "                     train_scores_mean + train_scores_std, alpha=0.1,\n",
    "                     color=\"r\")\n",
    "    plt.fill_between(train_sizes, test_scores_mean - test_scores_std,\n",
    "                     test_scores_mean + test_scores_std, alpha=0.1, color=\"g\")\n",
    "    plt.plot(train_sizes, train_scores_mean, 'o-', color=\"r\",\n",
    "             label=\"Training score\")\n",
    "    plt.plot(train_sizes, test_scores_mean, 'o-', color=\"g\",\n",
    "             label=\"Cross-validation score\")\n",
    "\n",
    "    plt.legend(loc=\"best\")\n",
    "    return plt"
   ]
  },
  {
   "cell_type": "code",
   "execution_count": 97,
   "id": "9fd398e6",
   "metadata": {},
   "outputs": [
    {
     "data": {
      "image/png": "[encoded data removed]",
      "text/plain": [
       "<Figure size 432x288 with 1 Axes>"
      ]
     },
     "metadata": {
      "needs_background": "light"
     },
     "output_type": "display_data"
    }
   ],
   "source": [
    "cv = ShuffleSplit(n_splits=100, test_size=0.2, random_state=0)\n",
    "gradient = GradientBoostingClassifier()\n",
    "plot_learning_curve(gradient, 'Learning Curve (Gradient)', X, Y, (0.7, 1.01), cv=cv, n_jobs=4)\n",
    "plt.show()"
   ]
  },
  {
   "cell_type": "raw",
   "id": "c415d94d",
   "metadata": {},
   "source": [
    "# Z powyższego wykresu wynika, że występuje dobry kompromis między obciążeniem a wariancją"
   ]
  },
  {
   "cell_type": "code",
   "execution_count": null,
   "id": "397ee3a3",
   "metadata": {},
   "outputs": [],
   "source": []
  }
 ],
 "metadata": {
  "kernelspec": {
   "display_name": "Python 3 (ipykernel)",
   "language": "python",
   "name": "python3"
  },
  "language_info": {
   "codemirror_mode": {
    "name": "ipython",
    "version": 3
   },
   "file_extension": ".py",
   "mimetype": "text/x-python",
   "name": "python",
   "nbconvert_exporter": "python",
   "pygments_lexer": "ipython3",
   "version": "3.9.7"
  }
 },
 "nbformat": 4,
 "nbformat_minor": 5
}
